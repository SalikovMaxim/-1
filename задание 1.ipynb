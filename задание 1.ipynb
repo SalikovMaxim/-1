{
 "cells": [
  {
   "cell_type": "code",
   "execution_count": 118,
   "id": "e7ce916c",
   "metadata": {},
   "outputs": [
    {
     "name": "stdout",
     "output_type": "stream",
     "text": [
      "{'rock', 1, 2, 3}\n",
      "no\n",
      "1 - один\n",
      "2 - два\n",
      "3 - три\n",
      "[' - один', ' - два', ' - три']\n",
      "(' - один', ' - два', ' - три')\n",
      "1\n"
     ]
    },
    {
     "data": {
      "text/plain": [
       "1"
      ]
     },
     "execution_count": 118,
     "metadata": {},
     "output_type": "execute_result"
    }
   ],
   "source": [
    "a=[1,2,3,1,1,1,(\"rock\"),(\"rock\")]\n",
    "b=set(a)# переводим из списка в множества и убираем дубликаты\n",
    "print(b)\n",
    "a=[1,2,3,1,1,1,(\"rock\"),(\"rock\")]\n",
    "c = dict.fromkeys(a,\"значение\")#cоздадим словарь с помощью dict.fromkeys()\n",
    "del c['rock']# удаляем элемент\n",
    "c[1]=(\" - один\") # изменяем значение\n",
    "c[2]=(\" - два\")\n",
    "c[3]=(\" - три\")\n",
    "if (6) in c:# проверяем имеется ли ключ в словаре\n",
    "    print(\"yes\")\n",
    "else:\n",
    "    print(\"no\")\n",
    "for k,v in c.items():# изменяем вид словаря\n",
    "    print(str(k)+str(v))\n",
    "    \n",
    "clist = list(c.values())# преобразуем словарь в список\n",
    "print(clist)\n",
    "ctuple=tuple(clist)\n",
    "print(ctuple)\n",
    "len(ctuple)# определяем длинну кортежа\n",
    "\n",
    "ctuple.count(' - два') # узнаем число элементов \"два\"\n",
    "print(ctuple.count(' - два'))\n",
    "ctuple.index(' - два')"
   ]
  },
  {
   "cell_type": "code",
   "execution_count": 104,
   "id": "e77de385",
   "metadata": {},
   "outputs": [
    {
     "ename": "SyntaxError",
     "evalue": "unexpected EOF while parsing (3984869623.py, line 1)",
     "output_type": "error",
     "traceback": [
      "\u001b[1;36m  Cell \u001b[1;32mIn [104], line 1\u001b[1;36m\u001b[0m\n\u001b[1;33m    ctuple = tuple((clist)\u001b[0m\n\u001b[1;37m                          ^\u001b[0m\n\u001b[1;31mSyntaxError\u001b[0m\u001b[1;31m:\u001b[0m unexpected EOF while parsing\n"
     ]
    }
   ],
   "source": []
  },
  {
   "cell_type": "code",
   "execution_count": null,
   "id": "7e86bc6e",
   "metadata": {},
   "outputs": [],
   "source": [
    "valuesList = list(myDict.values())"
   ]
  }
 ],
 "metadata": {
  "kernelspec": {
   "display_name": "Python 3 (ipykernel)",
   "language": "python",
   "name": "python3"
  },
  "language_info": {
   "codemirror_mode": {
    "name": "ipython",
    "version": 3
   },
   "file_extension": ".py",
   "mimetype": "text/x-python",
   "name": "python",
   "nbconvert_exporter": "python",
   "pygments_lexer": "ipython3",
   "version": "3.8.7"
  }
 },
 "nbformat": 4,
 "nbformat_minor": 5
}
